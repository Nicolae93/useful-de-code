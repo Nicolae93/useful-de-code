{
 "cells": [
  {
   "cell_type": "code",
   "execution_count": null,
   "id": "443bd720-9c61-4b9d-bf30-19815c352edc",
   "metadata": {},
   "outputs": [],
   "source": [
    "from pdnd.common.functions import *\n",
    "import pandas as pd\n",
    "import boto3\n",
    "from botocore.exceptions import NoCredentialsError, PartialCredentialsError\n",
    "\n",
    "def get_s3_modification_times(bucket_name, prefix=''):\n",
    "    # Initialize S3 client\n",
    "    session = Session.from_env()\n",
    "    s3_client = session.get_s3_client()\n",
    "\n",
    "    paginator = s3_client.get_paginator('list_objects_v2')\n",
    "    page_iterator = paginator.paginate(Bucket=bucket_name, Prefix=prefix)\n",
    "\n",
    "    all_objects = []\n",
    "    \n",
    "    try:\n",
    "        for page in page_iterator:\n",
    "            if 'Contents' in page:\n",
    "                for obj in page['Contents']:\n",
    "                    all_objects.append({\n",
    "                        'Key': obj['Key'],\n",
    "                        'LastModified': obj['LastModified']\n",
    "                    })\n",
    "    except (NoCredentialsError, PartialCredentialsError) as e:\n",
    "        print(f\"Error with AWS credentials: {e}\")\n",
    "        return pd.DataFrame(columns=['Key', 'LastModified'])\n",
    "\n",
    "    # Convert to DataFrame\n",
    "    df = pd.DataFrame(all_objects)\n",
    "    return df\n",
    "\n",
    "# Example usage\n",
    "bucket_name = ''\n",
    "prefix = ''\n",
    "df = get_s3_modification_times(bucket_name, prefix)\n",
    "\n",
    "# Display the DataFrame\n",
    "print(df)"
   ]
  },
  {
   "cell_type": "code",
   "execution_count": null,
   "id": "74918c48-bf6f-41b7-a4c8-1fd47817d6d2",
   "metadata": {},
   "outputs": [],
   "source": [
    "# This is what we want\n",
    "df['LastModified'].median().strftime('%Y-%m-%d %H:%M:%S.%f')"
   ]
  },
  {
   "cell_type": "code",
   "execution_count": null,
   "id": "e34cac93-833c-467d-90a0-a54aadd24bb4",
   "metadata": {},
   "outputs": [],
   "source": [
    "def split_df_by_median(df):\n",
    "    if not df.empty:\n",
    "        # Convert LastModified to datetime if not already\n",
    "        df['LastModified'] = pd.to_datetime(df['LastModified'])\n",
    "\n",
    "        # Calculate the median of the LastModified column\n",
    "        median_time = df['LastModified'].median()\n",
    "\n",
    "        # Split the DataFrame into two parts based on the median\n",
    "        first_part = df[df['LastModified'] <= median_time]\n",
    "        second_part = df[df['LastModified'] > median_time]\n",
    "\n",
    "        # Return the lengths of the two parts\n",
    "        return len(first_part), len(second_part)\n",
    "    else:\n",
    "        return 0, 0\n",
    "\n",
    "# Example usage assuming df is already obtained from the first code\n",
    "first_part_len, second_part_len = split_df_by_median(df)\n",
    "\n",
    "# Print total length of the DataFrame\n",
    "print(f\"Total length of the DataFrame: {len(df)}\")\n",
    "        \n",
    "# Display the lengths of the two parts\n",
    "print(f\"Length of first part: {first_part_len}\")\n",
    "print(f\"Length of second part: {second_part_len}\")"
   ]
  }
 ],
 "metadata": {
  "kernelspec": {
   "display_name": "Python 3",
   "language": "python",
   "name": "python3"
  },
  "language_info": {
   "codemirror_mode": {
    "name": "ipython",
    "version": 3
   },
   "file_extension": ".py",
   "mimetype": "text/x-python",
   "name": "python",
   "nbconvert_exporter": "python",
   "pygments_lexer": "ipython3",
   "version": "3.9.19"
  }
 },
 "nbformat": 4,
 "nbformat_minor": 5
}
